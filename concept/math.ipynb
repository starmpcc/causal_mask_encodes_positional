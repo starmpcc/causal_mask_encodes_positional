{
 "cells": [
  {
   "cell_type": "code",
   "execution_count": null,
   "id": "d5fbb4cd",
   "metadata": {},
   "outputs": [],
   "source": [
    "import seaborn as sns\n",
    "import numpy as np\n",
    "import matplotlib.pyplot as plt\n",
    "\n",
    "plt.rcParams[\"axes.titlesize\"] = 20\n",
    "plt.rcParams[\"axes.labelsize\"] = 16\n",
    "plt.rcParams[\"xtick.labelsize\"] = 14\n",
    "plt.rcParams[\"ytick.labelsize\"] = 14\n",
    "\n",
    "\n",
    "orig = [[1, np.nan, np.nan], [0.0, 1, np.nan], [0.0, 0.0, 1]]\n",
    "res = [[1, np.nan, np.nan], [0.5, 1, np.nan], [0.2, 0.4, 1]]\n",
    "\n",
    "plt.figure(figsize=(10, 5))\n",
    "plt.subplot(1, 2, 1)\n",
    "sns.heatmap(\n",
    "    orig,\n",
    "    annot=True,\n",
    "    cmap=\"rocket\",\n",
    "    vmin=0.0,\n",
    "    vmax=1,\n",
    "    annot_kws={\"fontsize\": 25},\n",
    "    cbar=False,\n",
    ")\n",
    "plt.xlabel(\"Key Position\")\n",
    "plt.ylabel(\"Query Position\")\n",
    "\n",
    "res_annot = [[\"1\", \"None\", \"None\"], [\"0.154\", \"1\", \"None\"], [\"0.132\", \"0.150\", \"1\"]]\n",
    "\n",
    "plt.subplot(1, 2, 2)\n",
    "sns.heatmap(\n",
    "    res,\n",
    "    annot=res_annot,\n",
    "    cmap=\"rocket\",\n",
    "    vmin=0.0,\n",
    "    vmax=1,\n",
    "    annot_kws={\"fontsize\": 25},\n",
    "    cbar=False,\n",
    "    fmt=\"\",\n",
    ")\n",
    "plt.xlabel(\"Key Position\")\n",
    "plt.ylabel(\"Query Position\")\n",
    "\n",
    "plt.savefig(\"../figures/_math.pdf\", transparent=True)"
   ]
  }
 ],
 "metadata": {
  "kernelspec": {
   "display_name": "Python 3",
   "language": "python",
   "name": "python3"
  },
  "language_info": {
   "name": "python",
   "version": "3.10.12"
  }
 },
 "nbformat": 4,
 "nbformat_minor": 5
}
